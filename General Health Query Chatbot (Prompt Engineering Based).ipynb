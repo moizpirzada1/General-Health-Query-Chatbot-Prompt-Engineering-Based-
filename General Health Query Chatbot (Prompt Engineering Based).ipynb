{
 "cells": [
  {
   "cell_type": "code",
   "execution_count": 2,
   "id": "243bdb55-027f-4c41-8524-e9bf3e798b03",
   "metadata": {},
   "outputs": [],
   "source": [
    "# Step 1: Import necessary libraries\n",
    "# -----------------------------------\n",
    "# - dotenv loads your API key securely from a .env file\n",
    "# - os allows access to environment variables\n",
    "# - openai is the official library to interact with the OpenAI API\n",
    "\n",
    "from dotenv import load_dotenv\n",
    "import os\n",
    "import openai"
   ]
  },
  {
   "cell_type": "code",
   "execution_count": 3,
   "id": "76efec03-1142-4e80-8e80-2ee8ed0c8c4d",
   "metadata": {},
   "outputs": [
    {
     "data": {
      "text/plain": [
       "True"
      ]
     },
     "execution_count": 3,
     "metadata": {},
     "output_type": "execute_result"
    }
   ],
   "source": [
    "# Step 2: Load the environment variables from your .env file\n",
    "# -----------------------------------------------------------\n",
    "# Your .env file should contain: OPENAI_API_KEY=sk-xxxxxxxxxxxx\n",
    "load_dotenv()"
   ]
  },
  {
   "cell_type": "code",
   "execution_count": 4,
   "id": "5945a3a1-6e1b-4efa-a867-469577130af8",
   "metadata": {},
   "outputs": [],
   "source": [
    "# Step 3: Get your API key from the environment\n",
    "# ----------------------------------------------\n",
    "api_key = os.getenv(\"OPENAI_API_KEY\")"
   ]
  },
  {
   "cell_type": "code",
   "execution_count": 5,
   "id": "850aa4e8-2f26-4065-8490-3fb9c9a7d15f",
   "metadata": {},
   "outputs": [],
   "source": [
    "# Step 4: Initialize OpenAI client using your API key\n",
    "# ----------------------------------------------------\n",
    "client = openai.OpenAI(api_key=api_key)\n"
   ]
  },
  {
   "cell_type": "code",
   "execution_count": 6,
   "id": "8413b719-b312-453c-9498-32dae8feb20a",
   "metadata": {},
   "outputs": [],
   "source": [
    "# Step 5: Define the function to send a message to the chatbot\n",
    "# -------------------------------------------------------------\n",
    "# This function takes user input and sends it to GPT-3.5 with a specific system prompt\n",
    "def generate_response(user_input):\n",
    "    # System prompt defines the chatbot's role — it will behave like a safe, friendly health assistant\n",
    "    system_prompt = (\n",
    "        \"You are a friendly and responsible medical assistant. \"\n",
    "        \"You answer general health questions clearly and simply. \"\n",
    "        \"You avoid giving medical diagnoses or prescriptions. \"\n",
    "        \"Always advise users to consult a doctor for serious issues.\"\n",
    "    )\n",
    "\n",
    "    try:\n",
    "        # Send the chat request to OpenAI\n",
    "        response = client.chat.completions.create(\n",
    "            model=\"gpt-3.5-turbo\",  # You can use gpt-4 if you have access\n",
    "            messages=[\n",
    "                {\"role\": \"system\", \"content\": system_prompt},\n",
    "                {\"role\": \"user\", \"content\": user_input}\n",
    "            ],\n",
    "            temperature=0.7,      # Controls creativity (0 = precise, 1 = creative)\n",
    "            max_tokens=300        # Max length of the chatbot's response\n",
    "        )\n",
    "\n",
    "        # Extract and return the assistant's reply\n",
    "        return response.choices[0].message.content\n",
    "\n",
    "    except Exception as e:\n",
    "        # Handle errors gracefully\n",
    "        return f\"❌ Error: {str(e)}\""
   ]
  },
  {
   "cell_type": "code",
   "execution_count": 7,
   "id": "c615fbb4-6597-4388-a035-979f1aabc4cb",
   "metadata": {},
   "outputs": [
    {
     "name": "stdout",
     "output_type": "stream",
     "text": [
      "🤖 Health Chatbot is ready! Type your question (type 'exit' to quit)\n",
      "\n"
     ]
    },
    {
     "name": "stdin",
     "output_type": "stream",
     "text": [
      "You:  Is paracetamol safe for children?\n"
     ]
    },
    {
     "name": "stdout",
     "output_type": "stream",
     "text": [
      "Bot: ❌ Error: Error code: 429 - {'error': {'message': 'You exceeded your current quota, please check your plan and billing details. For more information on this error, read the docs: https://platform.openai.com/docs/guides/error-codes/api-errors.', 'type': 'insufficient_quota', 'param': None, 'code': 'insufficient_quota'}}\n"
     ]
    },
    {
     "name": "stdin",
     "output_type": "stream",
     "text": [
      "You:  exit\n"
     ]
    },
    {
     "name": "stdout",
     "output_type": "stream",
     "text": [
      "Bot: Take care! 👋\n"
     ]
    }
   ],
   "source": [
    "# Step 6: Start the chatbot conversation loop\n",
    "# -------------------------------------------\n",
    "# You can type your questions directly, and the bot will reply\n",
    "# Type 'exit' to stop the conversation\n",
    "\n",
    "print(\"🤖 Health Chatbot is ready! Type your question (type 'exit' to quit)\\n\")\n",
    "\n",
    "while True:\n",
    "    user_input = input(\"You: \")  # Ask user to type a question\n",
    "    if user_input.lower() == \"exit\":\n",
    "        print(\"Bot: Take care! 👋\")\n",
    "        break  # Exit the loop if user types \"exit\"\n",
    "    \n",
    "    # Call the function to get the bot's response\n",
    "    response = generate_response(user_input)\n",
    "    print(\"Bot:\", response)  # Show the response\n"
   ]
  }
 ],
 "metadata": {
  "kernelspec": {
   "display_name": "Python (shopgenie)",
   "language": "python",
   "name": "shopgenie"
  },
  "language_info": {
   "codemirror_mode": {
    "name": "ipython",
    "version": 3
   },
   "file_extension": ".py",
   "mimetype": "text/x-python",
   "name": "python",
   "nbconvert_exporter": "python",
   "pygments_lexer": "ipython3",
   "version": "3.10.9"
  }
 },
 "nbformat": 4,
 "nbformat_minor": 5
}
